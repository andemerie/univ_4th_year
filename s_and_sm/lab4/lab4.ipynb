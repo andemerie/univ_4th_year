{
 "cells": [
  {
   "cell_type": "code",
   "execution_count": 74,
   "metadata": {
    "scrolled": false
   },
   "outputs": [
    {
     "data": {
      "text/markdown": [
       "### Computing ordinary and double integrals and solving system of equations by Monte Carlo method"
      ],
      "text/plain": [
       "<IPython.core.display.Markdown object>"
      ]
     },
     "metadata": {},
     "output_type": "display_data"
    },
    {
     "data": {
      "text/markdown": [
       "**Ordinary integral:** $\\int_{0}^{\\infty} e^{-x} cos^{2}x dx$<br>**Approximate solution:** 0.5114302037469285<br>**Error:** 0.08856979625307149<hr>"
      ],
      "text/plain": [
       "<IPython.core.display.Markdown object>"
      ]
     },
     "metadata": {},
     "output_type": "display_data"
    },
    {
     "data": {
      "text/markdown": [
       "**Double integral:** $\\iint_{y \\geq x^2 + 1} \\dfrac{dx dy}{x^4 + y^4}$<br>**Approximate solution:** 1.376153896837203<hr>"
      ],
      "text/plain": [
       "<IPython.core.display.Markdown object>"
      ]
     },
     "metadata": {},
     "output_type": "display_data"
    },
    {
     "data": {
      "text/markdown": [
       "**System of equations:** $\\begin{cases} 3x + 5y + z \\\\ 7x – 2y + 4z \\\\ -6x + 3y + 2z \\end{cases}$<br>**Approximate solution:** [9.51246557264168, -4.319694506550015]<br>**Error:** [0.1542044273583194, 0.013635493449984715]"
      ],
      "text/plain": [
       "<IPython.core.display.Markdown object>"
      ]
     },
     "metadata": {},
     "output_type": "display_data"
    }
   ],
   "source": [
    "import sys\n",
    "from random import uniform, randrange\n",
    "from math import cos, exp\n",
    "from IPython.display import display, Markdown\n",
    "\n",
    "\n",
    "def ordinary_integrand(x):\n",
    "    return cos(x) ** 2\n",
    "\n",
    "\n",
    "def for_double_integral():\n",
    "    values_list = []\n",
    "    x = uniform(0, 3)\n",
    "    values_list.append(x)\n",
    "    values_list.append(uniform(x ** 2 + 1, 15))\n",
    "    return values_list\n",
    "\n",
    "\n",
    "def double_integrand(x, y):\n",
    "    return 1 / ((x ** 4 + y ** 4) * exp(-(2 * x + y / 2)))\n",
    "\n",
    "\n",
    "def calculate_integral(integrand, get_random_vector, sample_size):\n",
    "    return sum([integrand(*get_random_vector()) for _ in range(sample_size)]) / sample_size\n",
    "\n",
    "\n",
    "def solve_system_of_equations(matrix_a, vector_f):\n",
    "    max_row_sum = max([sum(map(abs, row)) for row in matrix_a])\n",
    "    if max_row_sum >= 1:\n",
    "        return\n",
    "\n",
    "    size = len(matrix_a)\n",
    "    markov_chains_num = 1000\n",
    "    markov_chain_size = 100\n",
    "    vector_pi = [1 / size for _ in range(size)]\n",
    "    transition_probs = [[1 / size for _ in range(size)] for _ in range(size)]\n",
    "\n",
    "    solution = []\n",
    "    for i in range(size):\n",
    "        vector_h = [0] * size\n",
    "        vector_h[i] = 1\n",
    "\n",
    "        random_values = []\n",
    "        for _ in range(markov_chains_num):\n",
    "            markov_chain = [randrange(0, size) for _ in range(markov_chain_size)]\n",
    "\n",
    "            weights = []\n",
    "            first = markov_chain[0]\n",
    "            weights.append(vector_h[first] / vector_pi[first] if vector_pi[first] > 0 else 0)\n",
    "            for k in range(1, markov_chain_size):\n",
    "                prev = markov_chain[k - 1]\n",
    "                curr = markov_chain[k]\n",
    "                weight = weights[k - 1] * matrix_a[prev][curr] / transition_probs[prev][curr] \\\n",
    "                    if transition_probs[prev][curr] > 0 else 0\n",
    "                weights.append(weight)\n",
    "\n",
    "            random_value = sum([weights[i] * vector_f[x] for i, x in enumerate(markov_chain)])\n",
    "            random_values.append(random_value)\n",
    "\n",
    "        solution.append(sum(random_values) / markov_chains_num)\n",
    "    return solution\n",
    "\n",
    "\n",
    "SAMPLE_SIZE = 1000\n",
    "\n",
    "display(\n",
    "    Markdown('### Computing ordinary and double integrals and solving system of equations by Monte Carlo method'))\n",
    "\n",
    "ordinary_integral = calculate_integral(ordinary_integrand, lambda: [uniform(0, sys.float_info.max)], SAMPLE_SIZE)\n",
    "FORMULA1 = '\\int_{0}^{\\infty} e^{-x} cos^{2}x dx'\n",
    "EXACT_SOLUTION1 = 0.6\n",
    "display(Markdown('**Ordinary integral:** ${}$<br>'\n",
    "                 '**Approximate solution:** {}<br>'\n",
    "                 '**Error:** {}<hr>'.format(FORMULA1, ordinary_integral, abs(EXACT_SOLUTION1 - ordinary_integral))))\n",
    "\n",
    "FORMULA2 = '\\iint_{y \\geq x^2 + 1} \\dfrac{dx dy}{x^4 + y^4}'\n",
    "double_integral = calculate_integral(double_integrand, for_double_integral, SAMPLE_SIZE)\n",
    "display(Markdown('**Double integral:** ${}$<br>'\n",
    "                 '**Approximate solution:** {}<hr>'.format(FORMULA2, double_integral)))\n",
    "\n",
    "matrix_a = [\n",
    "    [0.6, -0.2],\n",
    "    [-0.3, 0.1],\n",
    "]\n",
    "vector_f = [3, -1]\n",
    "FORMULA3 = '\\\\begin{cases} 3x + 5y + z \\\\\\ 7x - 2y + 4z \\\\\\ -6x + 3y + 2z \\\\end{cases}'\n",
    "solution = solve_system_of_equations(matrix_a, vector_f)\n",
    "EXACT_SOLUTION3 = [9.66667, -4.33333]\n",
    "display(Markdown(\n",
    "    '**System of equations:** ${}$<br>'\n",
    "    '**Approximate solution:** {}<br>'\n",
    "    '**Error:** {}'.format(FORMULA3, solution, [abs(i - j) for i, j in zip(EXACT_SOLUTION3, solution)])))\n"
   ]
  },
  {
   "cell_type": "code",
   "execution_count": null,
   "metadata": {
    "collapsed": true
   },
   "outputs": [],
   "source": []
  },
  {
   "cell_type": "code",
   "execution_count": null,
   "metadata": {
    "collapsed": true
   },
   "outputs": [],
   "source": []
  }
 ],
 "metadata": {
  "kernelspec": {
   "display_name": "Python 3",
   "language": "python",
   "name": "python3"
  },
  "language_info": {
   "codemirror_mode": {
    "name": "ipython",
    "version": 3
   },
   "file_extension": ".py",
   "mimetype": "text/x-python",
   "name": "python",
   "nbconvert_exporter": "python",
   "pygments_lexer": "ipython3",
   "version": "3.6.1"
  }
 },
 "nbformat": 4,
 "nbformat_minor": 2
}
